{
 "cells": [
  {
   "cell_type": "markdown",
   "metadata": {},
   "source": [
    "# ** Описание **"
   ]
  },
  {
   "cell_type": "raw",
   "metadata": {},
   "source": [
    "Построить графики распределения в спам и не спам множествах следующих признаков:\n",
    "\n",
    "1\tКоличество слов на странице\n",
    "2\tСредняя длинна слова\n",
    "3\tКоличество слов в заголовке страниц (слова в теге <html><head><title> Some text </title>)\n",
    "4\tКоличество слов в анкорах ссылок (<html><body><a> Some text </a>)\n",
    "5\tКоэффициент сжатия\n",
    "\n",
    "Нужно посчитать статистику минимум по трем признакам и обязательно сделать для 1-го и 2-го признаков\n",
    "\n",
    "И отправить первое решение в соревнование https://www.kaggle.com/c/antispam-information-retrieval/\n",
    "На основании одного из указанных выше признаков попытаться разделить мн-во, так чтобы score в соревновании был больше 0.55\n",
    "\n",
    "При выполнении всех этих условия в течении семинара +1 балл к ДЗ\n",
    "\n",
    "Описание ДЗ и правил выставления за него баллов в https://www.kaggle.com/c/antispam-information-retrieval/  \n",
    "Сроки ДЗ уточнить у преподователя - обычно 2 недели"
   ]
  },
  {
   "cell_type": "code",
   "execution_count": 16,
   "metadata": {},
   "outputs": [],
   "source": [
    "from __future__ import division\n",
    "\n",
    "import base64\n",
    "import csv\n",
    "import gzip\n",
    "import zlib\n",
    "import pandas as pd\n",
    "import numpy as np\n",
    "\n",
    "from collections import namedtuple\n",
    "from pymorphy2 import MorphAnalyzer\n",
    "\n",
    "from xgboost import XGBClassifier\n",
    "from sklearn.metrics import precision_recall_fscore_support as PrecRecFbScore\n",
    "\n",
    "%matplotlib inline\n",
    "import matplotlib.pyplot as plt\n",
    "\n",
    "morph = MorphAnalyzer()"
   ]
  },
  {
   "cell_type": "code",
   "execution_count": 17,
   "metadata": {},
   "outputs": [],
   "source": [
    "TRACE_NUM = 1000\n",
    "import logging\n",
    "import importlib\n",
    "importlib.reload(logging)\n",
    "logging.basicConfig(format='%(asctime)s %(levelname)s:%(message)s', level=logging.INFO, datefmt='%H:%M:%S')\n",
    "\n",
    "def trace(items_num, trace_num=TRACE_NUM):\n",
    "    if items_num % trace_num == 0: logging.info(\"Complete items %05d\" % items_num)\n",
    "        \n",
    "def trace_worker(items_num, worker_id, trace_num=TRACE_NUM):\n",
    "    if items_num % trace_num == 0: logging.info(\"Complete items %05d in worker_id %d\" % (items_num, worker_id))"
   ]
  },
  {
   "cell_type": "markdown",
   "metadata": {},
   "source": [
    "### Утилиты"
   ]
  },
  {
   "cell_type": "markdown",
   "metadata": {},
   "source": [
    "#### Декораторы"
   ]
  },
  {
   "cell_type": "code",
   "execution_count": 48,
   "metadata": {},
   "outputs": [],
   "source": [
    "# def to_utf8(text):\n",
    "#     if isinstance(text, unicode): text = text.encode('utf8')\n",
    "#     return text\n",
    "\n",
    "# def convert2unicode(f):\n",
    "#     def tmp(text):\n",
    "#         if not isinstance(text, unicode): text = text.decode('utf8')\n",
    "#         return f(text)\n",
    "#     return tmp\n",
    "\n",
    "def convert2lower(f):\n",
    "    def tmp(text):        \n",
    "        return f(text.lower())\n",
    "    return tmp\n",
    "\n",
    "# #P.S. Декораторы могут усложнять отладку, так что от них вполне можно отказаться и воспользоваться copy-paste"
   ]
  },
  {
   "cell_type": "markdown",
   "metadata": {},
   "source": [
    "### Извлечение текста из html"
   ]
  },
  {
   "cell_type": "markdown",
   "metadata": {},
   "source": [
    "#### Извлечение текста при помощи встроенных модулей"
   ]
  },
  {
   "cell_type": "code",
   "execution_count": 42,
   "metadata": {},
   "outputs": [],
   "source": [
    "from html.parser import HTMLParser\n",
    "import re\n",
    "\n",
    "###Извлечение текста из title можно вписать сюда\n",
    "\n",
    "from html.parser import HTMLParser\n",
    "import re\n",
    "\n",
    "class TextHTMLParser(HTMLParser):\n",
    "    def __init__(self):\n",
    "        HTMLParser.__init__(self)\n",
    "        \n",
    "        self._title = \"\"\n",
    "        self._text = []\n",
    "        self._anchors = []\n",
    "        \n",
    "        self._script_cnt = self._link_cnt = self._img_cnt = 0\n",
    "        self._in_title = self._in_anchor = False\n",
    "\n",
    "    def handle_data(self, data):\n",
    "        text = data.strip()\n",
    "        if len(text) > 0:\n",
    "            text = re.sub('[ \\t\\r\\n]+', ' ', text)\n",
    "            \n",
    "            if self._in_title:\n",
    "                self._title = text  \n",
    "            elif self._in_anchor:\n",
    "                self._anchors.append(text + ' ')\n",
    "            else:\n",
    "                self._text.append(text + ' ')\n",
    "\n",
    "    def handle_starttag(self, tag, attrs):\n",
    "        if tag == 'title':\n",
    "            self._in_title = True\n",
    "            return\n",
    "        elif tag == 'a':\n",
    "            self._in_anchor = True\n",
    "            return\n",
    "        elif tag == 'script':\n",
    "            self._script_cnt += 1\n",
    "        elif tag == 'p':\n",
    "            self._text.append('\\n\\n')\n",
    "        elif tag == 'br':\n",
    "            self._text.append('\\n')\n",
    "            \n",
    "    def handle_endtag(self, tag):\n",
    "        if tag == 'title':\n",
    "            self._in_title = False\n",
    "        if tag == 'a':\n",
    "            self._in_anchor = False\n",
    "\n",
    "    def handle_startendtag(self, tag, attrs):\n",
    "        if tag == 'br':\n",
    "            self._text.append('\\n\\n')\n",
    "        elif tag == 'img':\n",
    "            self._img_cnt += 1\n",
    "        elif tag == 'link':\n",
    "            self._link_cnt += 1\n",
    "\n",
    "    def text(self):\n",
    "        return ''.join(self._text).strip()\n",
    "    \n",
    "    def title(self):\n",
    "        return self._title\n",
    "    \n",
    "    def anchors_text(self):\n",
    "        return ''.join(self._anchors).strip()\n",
    "    \n",
    "    def images(self):\n",
    "        return self._img_cnt\n",
    "    \n",
    "    def links(self):\n",
    "        return self._link_cnt\n",
    "    \n",
    "    def scripts(self):\n",
    "        return self._script_cnt\n",
    "\n",
    "def html2text_parser(text):\n",
    "    parser = TextHTMLParser()\n",
    "    parser.feed(text)\n",
    "    return parser.text()"
   ]
  },
  {
   "cell_type": "markdown",
   "metadata": {},
   "source": [
    "#### Извлечение текста при помощи дополнительных библиотек"
   ]
  },
  {
   "cell_type": "code",
   "execution_count": 20,
   "metadata": {},
   "outputs": [],
   "source": [
    "def html2text_bs(raw_html):\n",
    "    from bs4 import BeautifulSoup\n",
    "    \"\"\"\n",
    "    Тут производится извлечения из html текста\n",
    "    \"\"\"\n",
    "    soup = BeautifulSoup(raw_html, \"html.parser\")\n",
    "    [s.extract() for s in soup(['script', 'style'])]\n",
    "    return soup.get_text()\n",
    "\n",
    "def html2text_bs_visible(raw_html):\n",
    "    from bs4 import BeautifulSoup\n",
    "    \"\"\"\n",
    "    Тут производится извлечения из html текста, который видим пользователю\n",
    "    \"\"\"\n",
    "    soup = BeautifulSoup(raw_html, \"html.parser\")    \n",
    "    [s.extract() for s in soup(['style', 'script', '[document]', 'head', 'title'])]\n",
    "    return soup.get_text()\n",
    "\n",
    "def html2text_boilerpipe(raw_html):\n",
    "    import boilerpipe\n",
    "    \"\"\"\n",
    "    еще одна библиотека очень хорошо извлекающая именно видимый пользователю текст,\n",
    "    но она завязана на java\n",
    "    \"\"\"\n",
    "    pass"
   ]
  },
  {
   "cell_type": "markdown",
   "metadata": {},
   "source": [
    "#### Выбираем какой метод для конвертации html в текст будет основным"
   ]
  },
  {
   "cell_type": "code",
   "execution_count": 21,
   "metadata": {},
   "outputs": [],
   "source": [
    "html2text = html2text_parser"
   ]
  },
  {
   "cell_type": "markdown",
   "metadata": {},
   "source": [
    "#### Методы для токенизации текста"
   ]
  },
  {
   "cell_type": "code",
   "execution_count": 49,
   "metadata": {},
   "outputs": [],
   "source": [
    "@convert2lower\n",
    "def easy_tokenizer(text):\n",
    "    word = ''\n",
    "    for symbol in text:\n",
    "        if symbol.isalnum(): word += symbol\n",
    "        elif word:\n",
    "            yield word\n",
    "            word = ''\n",
    "    if word: yield word\n",
    "\n",
    "PYMORPHY_CACHE = {}\n",
    "MORPH = None\n",
    "\n",
    "def get_lemmatizer():\n",
    "    import pymorphy2\n",
    "    global MORPH\n",
    "    if MORPH is None: MORPH = pymorphy2.MorphAnalyzer()\n",
    "    return MORPH\n",
    "\n",
    "def pymorphy_tokenizer(text):\n",
    "    global PYMORPHY_CACHE\n",
    "    for word in easy_tokenizer(text):\n",
    "        word_hash = hash(word)\n",
    "        if word_hash not in PYMORPHY_CACHE:\n",
    "            PYMORPHY_CACHE[word_hash] = get_lemmatizer().parse(word)[0].normal_form            \n",
    "        yield PYMORPHY_CACHE[word_hash]"
   ]
  },
  {
   "cell_type": "markdown",
   "metadata": {},
   "source": [
    "#### Основная функция, которая вызывается для преобразования html в список слов"
   ]
  },
  {
   "cell_type": "code",
   "execution_count": 50,
   "metadata": {},
   "outputs": [],
   "source": [
    "def html2word(raw_html, to_text=html2text, tokenizer=easy_tokenizer):\n",
    "    return tokenizer(to_text(raw_html).lower())"
   ]
  },
  {
   "cell_type": "markdown",
   "metadata": {},
   "source": [
    "#### Рассчет финальных метрик"
   ]
  },
  {
   "cell_type": "code",
   "execution_count": 51,
   "metadata": {},
   "outputs": [],
   "source": [
    "def safe_divide(a, b):\n",
    "    if a == 0: return 0.0\n",
    "    elif b == 0: return 0.0\n",
    "    else: return a/b\n",
    "\n",
    "def calculate_metrics(predictions, threshold):    \n",
    "    \"\"\"\n",
    "    Функция подсчета метрик\n",
    "    Параметры\n",
    "    predictions - ранки по документам\n",
    "    threshold  - порог для метрик\n",
    "    \"\"\"\n",
    "    true_positive = 0\n",
    "    false_positive = 0\n",
    "    true_negative = 0\n",
    "    false_negative = 0\n",
    "    for (url_id, mark, url, prediction) in predictions:        \n",
    "        mark_predict = prediction > threshold\n",
    "\n",
    "        if mark_predict:                     \n",
    "            if mark_predict == mark: true_positive += 1\n",
    "            else: false_positive += 1                    \n",
    "        else:                     \n",
    "            if  mark_predict == mark: true_negative += 1\n",
    "            else: false_negative += 1\n",
    "\n",
    "    class_prec  = safe_divide(true_positive, true_positive + false_positive)\n",
    "    class_recall = safe_divide(true_positive, true_positive + false_negative)\n",
    "        \n",
    "    class_F1 = safe_divide(2 * class_prec * class_recall, class_prec + class_recall)\n",
    "    \n",
    "    \n",
    "    not_class_prec = safe_divide(true_negative, true_negative + false_negative)\n",
    "    not_class_recall = safe_divide(true_negative, true_negative + false_positive)\n",
    "    \n",
    "    not_class_F1 = safe_divide(2 * not_class_prec * not_class_recall, not_class_prec + not_class_recall)\n",
    "    \n",
    "    return ( (class_prec, class_recall, class_F1), (not_class_prec, not_class_recall, not_class_F1) )\n",
    "\n",
    "def arange(start, stop, step):\n",
    "    cur_value = start\n",
    "    while True:\n",
    "        if cur_value > stop: break\n",
    "        yield cur_value\n",
    "        cur_value += step\n",
    "\n",
    "def plot_results(docs, min_threshold=-1, max_threshold=1, step=0.1, trace=False):\n",
    "    x = []\n",
    "    y_p = []\n",
    "    y_n = []\n",
    "    docs_predictions = classifier.predict_all(docs)\n",
    "    for threshold in arange(min_threshold, max_threshold, step):\n",
    "        r = calculate_metrics(docs_predictions, threshold)\n",
    "        x.append(threshold)\n",
    "        y_p.append(r[0])\n",
    "        y_n.append(r[1])        \n",
    "        if trace: \n",
    "            print('threshold %s' % threshold)\n",
    "            print('\\tclass_prec %s, class_recall %s, class_F1 %s' % r[0])\n",
    "            print('\\tnot_class_prec %s, not_class_recall %s, not_class_F1 %s' % r[1])\n",
    "            print('\\t\\tMacroF1Mesure %s' % ((r[0][2] + r[1][2])/2))\n",
    "    plot_stats(x, y_p, \"Class Result\")\n",
    "    plot_stats(x, y_n, \"Not class Result\")    \n",
    "\n",
    "\n",
    "def plot_stats(x, y, title):\n",
    "    plt.figure(figsize=(10, 5))\n",
    "\n",
    "    prec, = plt.plot( x, \n",
    "                     [k[0] for k in y], \"r\", label='Precision', \n",
    "                     linewidth=1)\n",
    "    accur, = plt.plot( x, \n",
    "                      [k[1] for k in y], \"b\", label='Recall',\n",
    "                      linewidth=1)\n",
    "    f1, =    plt.plot( x, \n",
    "                      [k[2] for k in y], \"g\", label='F1',\n",
    "                      linewidth=1)\n",
    "    plt.grid(True)\n",
    "    plt.legend(handles=[prec, accur, f1])\n",
    "    plt.title(title)\n",
    "    plt.show()"
   ]
  },
  {
   "cell_type": "markdown",
   "metadata": {},
   "source": [
    "**Извлечем слова и фичи из html-текста**\n",
    "="
   ]
  },
  {
   "cell_type": "code",
   "execution_count": 52,
   "metadata": {},
   "outputs": [],
   "source": [
    "def html_features(raw_html, Parser = TextHTMLParser, tokenizer=easy_tokenizer):\n",
    "    \n",
    "    parser = Parser()\n",
    "    parser.feed(raw_html)\n",
    "    \n",
    "    title  = list(tokenizer(parser.title()))\n",
    "    text   = list(tokenizer(parser.text()))\n",
    "    anchors = list(tokenizer(parser.anchors_text()))\n",
    "    \n",
    "    images  = parser.images()\n",
    "    links   = parser.links()\n",
    "    scripts = parser.scripts()\n",
    "    \n",
    "    return { 'title'   : title,\n",
    "             'text'    : text,\n",
    "             'anchors' : anchors,\n",
    "             'images'  : images,\n",
    "             'links'   : links,\n",
    "             'scripts' : scripts }"
   ]
  },
  {
   "cell_type": "markdown",
   "metadata": {},
   "source": [
    "**Генерируем фичи**\n",
    "="
   ]
  },
  {
   "cell_type": "code",
   "execution_count": 53,
   "metadata": {},
   "outputs": [],
   "source": [
    "def calc_features(url, html_data):\n",
    "    compression_level = len(html_data) / len(zlib.compress(html_data.encode('utf-8')))\n",
    "    features = html_features(html_data)\n",
    "    \n",
    "    title  = features['title']\n",
    "    text   = features['text']\n",
    "    anchor = features['anchors']\n",
    "    \n",
    "    images  = features['images']\n",
    "    links   = features['links']\n",
    "    scripts = features['scripts']\n",
    "    \n",
    "    title_words_num  = len(title)\n",
    "    anchor_words_num = len(anchor)\n",
    "    \n",
    "    words_num = title_words_num + anchor_words_num + len(text)\n",
    "    \n",
    "    unique_title = set(title)\n",
    "    unique_text = set(text)\n",
    "    unique_anchor = set(anchor)\n",
    "    \n",
    "    def normalize(unique):\n",
    "        to_delete = set()\n",
    "        to_add = set()      \n",
    "        for i in unique:   \n",
    "            to_add1 = set()\n",
    "            word = i.lower()       \n",
    "            for parse in morph.parse(word):        \n",
    "                norm = parse.normal_form\n",
    "                to_add1.add(norm)          \n",
    "                if word == norm:\n",
    "                    break\n",
    "            if word == norm:\n",
    "                continue\n",
    "            to_add |= to_add1\n",
    "            to_delete.add(word)\n",
    "        unique -= to_delete\n",
    "        unique |= to_add\n",
    "            \n",
    "            \n",
    "    normalize(unique_title)\n",
    "    normalize(unique_text)\n",
    "    normalize(unique_anchor)\n",
    "        \n",
    "    unique_words_num = len(unique_title) + len(unique_text) + len(unique_anchor)\n",
    "    \n",
    "    title_lengths   = np.array([], dtype = int)\n",
    "    text_lengths    = np.array([], dtype = int)\n",
    "    anchor_lengths  = np.array([], dtype = int)\n",
    "    \n",
    "    for word in title:\n",
    "        np.append(title_lengths, len(word))\n",
    "        \n",
    "    for word in text:\n",
    "        np.append(text_lengths, len(word))\n",
    "        \n",
    "    for word in anchor:\n",
    "        np.append(anchor_lengths, len(word))\n",
    "        \n",
    "    if text_lengths.size > 0:\n",
    "        max_len_text = max(text_lengths)\n",
    "    else:\n",
    "        max_len_text = 0\n",
    "    \n",
    "    if title_lengths.size > 0:\n",
    "        max_len_title  = max(title_lengths)\n",
    "    else:\n",
    "        max_len_title = 0\n",
    "    \n",
    "    if anchor_lengths.size > 0:\n",
    "        max_len_anchor = max(anchor_lengths)\n",
    "    else:\n",
    "        max_len_anchor = 0\n",
    "    \n",
    "    avg_word_len = ( title_lengths.sum() + text_lengths.sum() + anchor_lengths.sum() ) / words_num\n",
    "    \n",
    "    url_len = len(url)        \n",
    "    url_dots = url.count('.') \n",
    "    url_slashes = url.count('/') \n",
    "    \n",
    "    return [words_num,         \n",
    "            unique_words_num,  \n",
    "            avg_word_len,      \n",
    "            title_words_num,   \n",
    "            anchor_words_num,    \n",
    "            compression_level,    \n",
    "            url_len,           \n",
    "            url_dots,         \n",
    "            url_slashes,            \n",
    "            scripts            \n",
    "           ]"
   ]
  },
  {
   "cell_type": "code",
   "execution_count": 54,
   "metadata": {},
   "outputs": [
    {
     "name": "stdout",
     "output_type": "stream",
     "text": [
      "[6, 6, 0.0, 2, 0, 0.8450704225352113, 12, 0, 2, 0]\n"
     ]
    }
   ],
   "source": [
    "test_html_data = u'''\n",
    "<html>\n",
    "<title> Заголовок Ololo </title>\n",
    "спам 1 2 3\n",
    "</html>\n",
    "'''\n",
    "test_url = 'http://ololo'\n",
    "test_features = calc_features(test_url, test_html_data)\n",
    "print(test_features)"
   ]
  },
  {
   "cell_type": "code",
   "execution_count": 60,
   "metadata": {},
   "outputs": [],
   "source": [
    "from multiprocessing import Process, Queue\n",
    "\n",
    "DocItem = namedtuple('DocItem', ['doc_id', 'is_spam', 'url', 'features'])\n",
    "WORKER_NUM = 4\n",
    "\n",
    "def load_csv(input_file_name, calc_features_f):    \n",
    "    \"\"\"\n",
    "    Загружаем данные и извлекаем на лету признаки\n",
    "    Сам контент не сохраняется, чтобы уменьшить потребление памяти - чтобы\n",
    "    можно было запускать даже на ноутбуках в классе\n",
    "    \"\"\"\n",
    "    \n",
    "    with open(input_file_name)  as input_file:            \n",
    "        headers = input_file.readline()\n",
    "        \n",
    "        for i, line in enumerate(input_file):\n",
    "            trace(i)\n",
    "            parts = line.strip().split('\\t')\n",
    "            url_id = int(parts[0])                                        \n",
    "            mark = bool(int(parts[1]))                    \n",
    "            url = parts[2]\n",
    "            pageInb64 = parts[3]\n",
    "            \n",
    "            try:\n",
    "                html_data = base64.b64decode(pageInb64).decode(\"utf-8\") \n",
    "            except UnicodeDecodeError:\n",
    "                continue\n",
    "                \n",
    "            features = calc_features_f(url, html_data)            \n",
    "            yield DocItem(url_id, mark, url, features)            \n",
    "                \n",
    "        trace(i, 1)\n",
    "        \n",
    "# def load_csv_worker(input_file_name, calc_features_f, worker_id, res_queue):    \n",
    "#     with gzip.open(input_file_name,  mode='rt', encoding='utf8') if input_file_name.endswith('gz') else open(input_file_name, mode='rt', encoding='utf8')  as input_file:            \n",
    "#         headers = input_file.readline()\n",
    "        \n",
    "#         for i, line in enumerate(input_file):\n",
    "#             trace_worker(i, worker_id)\n",
    "#             if i % WORKER_NUM != worker_id: continue\n",
    "#             parts = line.strip().split('\\t')\n",
    "#             url_id = int(parts[0])                                        \n",
    "#             mark = bool(int(parts[1]))                    \n",
    "#             url = parts[2]\n",
    "#             pageInb64 = parts[3]\n",
    "#             html_data = base64.b64decode(pageInb64)\n",
    "#             try:\n",
    "#                 html_data = html_data.decode('utf8')\n",
    "#             except:\n",
    "#                 html_data = html_data.decode('latin1')\n",
    "#             features = calc_features_f(url, html_data)            \n",
    "#             res_queue.put(DocItem(url_id, mark, url, features))\n",
    "                \n",
    "#         trace_worker(i, worker_id, 1)  \n",
    "#     res_queue.put(None)\n",
    "        \n",
    "# def load_csv_multiprocess(input_file_name, calc_features_f):\n",
    "#     processes = []\n",
    "#     res_queue = Queue()    \n",
    "#     for i in range(WORKER_NUM):\n",
    "#         process = Process(target=load_csv_worker, args=(input_file_name, calc_features_f, i, res_queue))\n",
    "#         processes.append(process)\n",
    "#         process.start()\n",
    "    \n",
    "#     complete_workers = 0\n",
    "#     while complete_workers != WORKER_NUM:\n",
    "#         item = res_queue.get()\n",
    "#         if item is None:\n",
    "#             complete_workers += 1\n",
    "#         else:\n",
    "#             yield item\n",
    "        \n",
    "#     for process in processes: process.join()"
   ]
  },
  {
   "cell_type": "markdown",
   "metadata": {},
   "source": [
    "** Обрабатываем входной файл **\n",
    "<br>\n",
    "Формат - поля разделенные табуляциями\n",
    "<br>\n",
    "0 - идентификатор документа\n",
    "<br>\n",
    "1 - метка класса 0 - не спам, 1 - спам\n",
    "<br>\n",
    "2 - урл документа\n",
    "<br>\n",
    "3 - документ в кодировке base64\n",
    "\n",
    "Выходной формат - массив кортежей вида\n",
    "(doc_id, is_spam, url, html_data)"
   ]
  },
  {
   "cell_type": "code",
   "execution_count": 63,
   "metadata": {
    "scrolled": false
   },
   "outputs": [
    {
     "name": "stderr",
     "output_type": "stream",
     "text": [
      "17:15:02 INFO:Complete items 00000\n",
      "17:16:06 INFO:Complete items 01000\n",
      "17:17:02 INFO:Complete items 02000\n",
      "17:18:01 INFO:Complete items 03000\n",
      "17:19:02 INFO:Complete items 04000\n",
      "17:20:04 INFO:Complete items 05000\n",
      "17:20:56 INFO:Complete items 06000\n",
      "17:22:01 INFO:Complete items 07000\n",
      "17:22:03 INFO:Complete items 07043\n"
     ]
    },
    {
     "name": "stdout",
     "output_type": "stream",
     "text": [
      "CPU times: user 6min 59s, sys: 1.5 s, total: 7min\n",
      "Wall time: 7min\n"
     ]
    }
   ],
   "source": [
    "%%time\n",
    "\n",
    "TRAIN_DATA_FILE  = 'kaggle_train_data_tab.csv'\n",
    "train_docs = list(load_csv(TRAIN_DATA_FILE, calc_features))"
   ]
  },
  {
   "cell_type": "markdown",
   "metadata": {},
   "source": [
    "**Графики**\n",
    "="
   ]
  },
  {
   "cell_type": "code",
   "execution_count": 100,
   "metadata": {},
   "outputs": [
    {
     "data": {
      "image/png": "[encoded data removed]",
      "text/plain": [
       "<Figure size 432x288 with 1 Axes>"
      ]
     },
     "metadata": {
      "needs_background": "light"
     },
     "output_type": "display_data"
    },
    {
     "data": {
      "image/png": "[encoded data removed]",
      "text/plain": [
       "<Figure size 432x288 with 1 Axes>"
      ]
     },
     "metadata": {
      "needs_background": "light"
     },
     "output_type": "display_data"
    },
    {
     "data": {
      "image/png": "[encoded data removed]",
      "text/plain": [
       "<Figure size 432x288 with 1 Axes>"
      ]
     },
     "metadata": {
      "needs_background": "light"
     },
     "output_type": "display_data"
    },
    {
     "data": {
      "image/png": "[encoded data removed]",
      "text/plain": [
       "<Figure size 432x288 with 1 Axes>"
      ]
     },
     "metadata": {
      "needs_background": "light"
     },
     "output_type": "display_data"
    },
    {
     "data": {
      "image/png": "[encoded data removed]",
      "text/plain": [
       "<Figure size 432x288 with 1 Axes>"
      ]
     },
     "metadata": {
      "needs_background": "light"
     },
     "output_type": "display_data"
    },
    {
     "data": {
      "image/png": "[encoded data removed]",
      "text/plain": [
       "<Figure size 432x288 with 1 Axes>"
      ]
     },
     "metadata": {
      "needs_background": "light"
     },
     "output_type": "display_data"
    },
    {
     "data": {
      "image/png": "[encoded data removed]",
      "text/plain": [
       "<Figure size 432x288 with 1 Axes>"
      ]
     },
     "metadata": {
      "needs_background": "light"
     },
     "output_type": "display_data"
    },
    {
     "data": {
      "image/png": "[encoded data removed]",
      "text/plain": [
       "<Figure size 432x288 with 1 Axes>"
      ]
     },
     "metadata": {
      "needs_background": "light"
     },
     "output_type": "display_data"
    },
    {
     "data": {
      "image/png": "[encoded data removed]",
      "text/plain": [
       "<Figure size 432x288 with 1 Axes>"
      ]
     },
     "metadata": {
      "needs_background": "light"
     },
     "output_type": "display_data"
    },
    {
     "data": {
      "image/png": "[encoded data removed]",
      "text/plain": [
       "<Figure size 432x288 with 1 Axes>"
      ]
     },
     "metadata": {
      "needs_background": "light"
     },
     "output_type": "display_data"
    }
   ],
   "source": [
    "is_spam_data = [doc.features[0] for doc in train_docs if doc[1] == True]\n",
    "not_spam_data = [doc.features[0] for doc in train_docs if doc[1] == False]\n",
    "bins = range(0,3000,10)\n",
    "plt.hist(is_spam_data, bins=bins, color='red', density=True, alpha=0.7, label='spam')\n",
    "plt.hist(not_spam_data, bins=bins, color='blue', density=True, alpha=0.7, label='not_spam')\n",
    "plt.title('NumWords')\n",
    "plt.legend()\n",
    "plt.show()\n",
    "\n",
    "is_spam_data = [doc.features[1] for doc in train_docs if doc[1] == True]\n",
    "not_spam_data = [doc.features[1] for doc in train_docs if doc[1] == False]\n",
    "bins = 100\n",
    "plt.hist(is_spam_data, bins=bins, color='red', density=True, alpha=0.7, label='spam')\n",
    "plt.hist(not_spam_data, bins=bins, color='blue', density=True, alpha=0.7, label='not_spam')\n",
    "plt.title('AvgWordLen')\n",
    "plt.legend()\n",
    "plt.show()\n",
    "\n",
    "is_spam_data = [doc.features[2] for doc in train_docs if doc[1] == True]\n",
    "not_spam_data = [doc.features[2] for doc in train_docs if doc[1] == False]\n",
    "bins = range(0, 30, 1)\n",
    "plt.hist(is_spam_data, bins=bins, color='red', density=True, alpha=0.7, label='spam')\n",
    "plt.hist(not_spam_data, bins=bins, color='blue', density=True, alpha=0.7, label='not_spam')\n",
    "plt.title('NumWordsTitle')\n",
    "plt.legend()\n",
    "plt.show()\n",
    "\n",
    "is_spam_data = [doc.features[3] for doc in train_docs if doc[1] == True]\n",
    "not_spam_data = [doc.features[3] for doc in train_docs if doc[1] == False]\n",
    "bins = range(0, 30, 1)\n",
    "plt.hist(is_spam_data, bins=bins, color='red',  alpha=0.7, label='spam')\n",
    "plt.hist(not_spam_data, bins=bins, color='blue',  alpha=0.7, label='not_spam')\n",
    "plt.title('NumWordsTitle')\n",
    "plt.legend()\n",
    "plt.show()\n",
    "\n",
    "is_spam_data = [doc.features[4] for doc in train_docs if doc[1] == True]\n",
    "not_spam_data = [doc.features[4] for doc in train_docs if doc[1] == False]\n",
    "bins = range(0, 30, 1)\n",
    "plt.hist(is_spam_data, bins=bins, color='red',  alpha=0.7, label='spam')\n",
    "plt.hist(not_spam_data, bins=bins, color='blue', alpha=0.7, label='not_spam')\n",
    "plt.title('NumWordsAnchor')\n",
    "plt.legend()\n",
    "plt.show()\n",
    "\n",
    "is_spam_data = [doc.features[5] for doc in train_docs if doc[1] == True]\n",
    "not_spam_data = [doc.features[5] for doc in train_docs if doc[1] == False]\n",
    "bins = range(0, 30, 1)\n",
    "plt.hist(is_spam_data, bins=bins, color='red', alpha=0.7, label='spam')\n",
    "plt.hist(not_spam_data, bins=bins, color='blue', alpha=0.7, label='not_spam')\n",
    "plt.title('CompressionLevel')\n",
    "plt.legend()\n",
    "plt.show()\n",
    "\n",
    "is_spam_data = [doc.features[6] for doc in train_docs if doc[1] == True]\n",
    "not_spam_data = [doc.features[6] for doc in train_docs if doc[1] == False]\n",
    "bins = range(0, 30, 1)\n",
    "plt.hist(is_spam_data, bins=bins, color='red',  alpha=0.7, label='spam')\n",
    "plt.hist(not_spam_data, bins=bins, color='blue',  alpha=0.7, label='not_spam')\n",
    "plt.title('Length of URL')\n",
    "plt.legend()\n",
    "plt.show()\n",
    "\n",
    "is_spam_data = [doc.features[7] for doc in train_docs if doc[1] == True]\n",
    "not_spam_data = [doc.features[7] for doc in train_docs if doc[1] == False]\n",
    "bins = range(0, 30, 1)\n",
    "plt.hist(is_spam_data, bins=bins, color='red',  alpha=0.7, label='spam')\n",
    "plt.hist(not_spam_data, bins=bins, color='blue', alpha=0.7, label='not_spam')\n",
    "plt.title('Amount of dots in URL')\n",
    "plt.legend()\n",
    "plt.show()\n",
    "\n",
    "is_spam_data = [doc.features[8] for doc in train_docs if doc[1] == True]\n",
    "not_spam_data = [doc.features[8] for doc in train_docs if doc[1] == False]\n",
    "bins = range(0, 30, 1)\n",
    "plt.hist(is_spam_data, bins=bins, color='red',  alpha=0.7, label='spam')\n",
    "plt.hist(not_spam_data, bins=bins, color='blue',  alpha=0.7, label='not_spam')\n",
    "plt.title('Amount of slashes in URL')\n",
    "plt.legend()\n",
    "plt.show()\n",
    "\n",
    "is_spam_data = [doc.features[9] for doc in train_docs if doc[1] == True]\n",
    "not_spam_data = [doc.features[9] for doc in train_docs if doc[1] == False]\n",
    "bins = range(0, 30, 1)\n",
    "plt.hist(is_spam_data, bins=bins, color='red',  alpha=0.7, label='spam')\n",
    "plt.hist(not_spam_data, bins=bins, color='blue', alpha=0.7, label='not_spam')\n",
    "plt.title('Amount of JS script in the page')\n",
    "plt.legend()\n",
    "plt.show()"
   ]
  },
  {
   "cell_type": "code",
   "execution_count": 71,
   "metadata": {},
   "outputs": [],
   "source": [
    "def calculate_metrics(docs, classifier):    \n",
    "    \"\"\"\n",
    "    Функция подсчета метрик\n",
    "    Параметры\n",
    "    predictions - ранки по документам\n",
    "    \"\"\"\n",
    "    \n",
    "    predictions = classifier.predict_all(docs)\n",
    "    \n",
    "    true = [i[1] for i in predictions]\n",
    "    predictions = [i[3] for i in predictions]\n",
    "    \n",
    "    precision, recall, F1, _ = PrecRecFbScore(true, predictions)\n",
    "    \n",
    "    not_class_prec,   class_prec   = precision[0], precision[1]\n",
    "    not_class_recall, class_recall = recall[0],    recall[1]\n",
    "    not_class_F1,     class_F1     = F1[0],        F1[1]\n",
    "    \n",
    "    return { 'class_prec' : class_prec,\n",
    "             'class_recall' : class_recall,\n",
    "             'class_F1' : class_F1,\n",
    "             'not_class_prec' : not_class_prec,\n",
    "             'not_class_recall' : not_class_recall,\n",
    "             'not_class_F1' : not_class_F1 }"
   ]
  },
  {
   "cell_type": "code",
   "execution_count": null,
   "metadata": {},
   "outputs": [],
   "source": []
  },
  {
   "cell_type": "markdown",
   "metadata": {},
   "source": [
    "** Классификатор: **\n",
    "Нужно реализовать"
   ]
  },
  {
   "cell_type": "code",
   "execution_count": 72,
   "metadata": {},
   "outputs": [],
   "source": [
    "class Classifier:\n",
    "        \n",
    "    def __init__(self, n_estimators, learning_rate, max_depth):\n",
    "        \n",
    "        self.classifier = XGBClassifier(n_estimators  = n_estimators,\n",
    "                                        learning_rate = learning_rate,\n",
    "                                        max_depth     = max_depth)                    \n",
    "    \n",
    "    def predict_all(self, docs):\n",
    "        ids = []\n",
    "        urls = []\n",
    "        marks = []\n",
    "        predictions = []\n",
    "        features = []\n",
    "        \n",
    "        for doc_num, doc in enumerate(docs):                            \n",
    "            features.append(doc.features)\n",
    "            ids.append(doc.doc_id)\n",
    "            urls.append(doc.url)\n",
    "            marks.append(doc.is_spam)\n",
    "            trace(doc_num)\n",
    "        \n",
    "        predictions = self.classifier.predict(np.array(features))\n",
    "        predictions = list(map(int, predictions))\n",
    "        \n",
    "        return list(zip(ids, marks, urls, predictions))\n",
    "    \n",
    "    def train(self, docs):        \n",
    "        features = []\n",
    "        marks = []\n",
    "        \n",
    "        for doc_num, doc in enumerate(docs):                            \n",
    "            \n",
    "            features.append(doc.features)\n",
    "            marks.append(doc.is_spam)\n",
    "            \n",
    "            trace(doc_num)\n",
    "            \n",
    "        self.classifier.fit(np.array(features), np.array(marks))\n",
    "            \n",
    "        trace(doc_num, 1)"
   ]
  },
  {
   "cell_type": "code",
   "execution_count": 73,
   "metadata": {},
   "outputs": [
    {
     "name": "stderr",
     "output_type": "stream",
     "text": [
      "17:24:00 INFO:Complete items 00000\n",
      "17:24:00 INFO:Complete items 01000\n",
      "17:24:00 INFO:Complete items 02000\n",
      "17:24:00 INFO:Complete items 03000\n",
      "17:24:00 INFO:Complete items 04000\n",
      "17:24:00 INFO:Complete items 05000\n",
      "17:24:00 INFO:Complete items 06000\n",
      "17:24:00 INFO:Complete items 07000\n"
     ]
    },
    {
     "name": "stdout",
     "output_type": "stream",
     "text": [
      "[17:24:00] WARNING: /Users/ktietz/demo/mc3/conda-bld/xgboost-split_1628682908089/work/src/learner.cc:1061: Starting in XGBoost 1.3.0, the default evaluation metric used with the objective 'binary:logistic' was changed from 'error' to 'logloss'. Explicitly set eval_metric if you'd like to restore the old behavior.\n"
     ]
    },
    {
     "name": "stderr",
     "output_type": "stream",
     "text": [
      "17:24:00 INFO:Complete items 07042\n",
      "17:24:00 INFO:Complete items 00000\n",
      "17:24:00 INFO:Complete items 01000\n",
      "17:24:00 INFO:Complete items 02000\n",
      "17:24:00 INFO:Complete items 03000\n",
      "17:24:00 INFO:Complete items 04000\n",
      "17:24:00 INFO:Complete items 05000\n",
      "17:24:00 INFO:Complete items 06000\n",
      "17:24:00 INFO:Complete items 07000\n",
      "17:24:00 INFO:Complete items 00000\n",
      "17:24:00 INFO:Complete items 01000\n",
      "17:24:00 INFO:Complete items 02000\n",
      "17:24:00 INFO:Complete items 03000\n",
      "17:24:00 INFO:Complete items 04000\n",
      "17:24:00 INFO:Complete items 05000\n",
      "17:24:00 INFO:Complete items 06000\n",
      "17:24:00 INFO:Complete items 07000\n",
      "/Users/ninakamkia/miniforge3/lib/python3.9/site-packages/xgboost/sklearn.py:888: UserWarning: The use of label encoder in XGBClassifier is deprecated and will be removed in a future release. To remove this warning, do the following: 1) Pass option use_label_encoder=False when constructing XGBClassifier object; and 2) Encode your labels (y) as integers starting with 0, i.e. 0, 1, 2, ..., [num_class - 1].\n",
      "  warnings.warn(label_encoder_deprecation_msg, UserWarning)\n"
     ]
    },
    {
     "name": "stdout",
     "output_type": "stream",
     "text": [
      "500 Estimators, rate 0.05, depth 3\n",
      "{'class_prec': 0.956573896353167, 'class_recall': 0.970309077634461, 'class_F1': 0.9633925335266401, 'not_class_prec': 0.9575652173913044, 'not_class_recall': 0.9383094751192911, 'not_class_F1': 0.9478395593045275}\n",
      "#############################\n",
      "[17:24:00] WARNING: /Users/ktietz/demo/mc3/conda-bld/xgboost-split_1628682908089/work/src/learner.cc:1061: Starting in XGBoost 1.3.0, the default evaluation metric used with the objective 'binary:logistic' was changed from 'error' to 'logloss'. Explicitly set eval_metric if you'd like to restore the old behavior.\n"
     ]
    },
    {
     "name": "stderr",
     "output_type": "stream",
     "text": [
      "17:24:02 INFO:Complete items 07042\n",
      "17:24:02 INFO:Complete items 00000\n",
      "17:24:02 INFO:Complete items 01000\n",
      "17:24:02 INFO:Complete items 02000\n",
      "17:24:02 INFO:Complete items 03000\n",
      "17:24:02 INFO:Complete items 04000\n",
      "17:24:02 INFO:Complete items 05000\n",
      "17:24:02 INFO:Complete items 06000\n",
      "17:24:02 INFO:Complete items 07000\n",
      "17:24:02 INFO:Complete items 00000\n",
      "17:24:02 INFO:Complete items 01000\n",
      "17:24:02 INFO:Complete items 02000\n",
      "17:24:02 INFO:Complete items 03000\n",
      "17:24:02 INFO:Complete items 04000\n",
      "17:24:02 INFO:Complete items 05000\n",
      "17:24:02 INFO:Complete items 06000\n",
      "17:24:02 INFO:Complete items 07000\n",
      "/Users/ninakamkia/miniforge3/lib/python3.9/site-packages/xgboost/sklearn.py:888: UserWarning: The use of label encoder in XGBClassifier is deprecated and will be removed in a future release. To remove this warning, do the following: 1) Pass option use_label_encoder=False when constructing XGBClassifier object; and 2) Encode your labels (y) as integers starting with 0, i.e. 0, 1, 2, ..., [num_class - 1].\n",
      "  warnings.warn(label_encoder_deprecation_msg, UserWarning)\n"
     ]
    },
    {
     "name": "stdout",
     "output_type": "stream",
     "text": [
      "500 Estimators, rate 0.05, depth 6\n",
      "{'class_prec': 0.9961032635168047, 'class_recall': 0.9953760038938915, 'class_F1': 0.995739500912964, 'not_class_prec': 0.9935308137555329, 'not_class_recall': 0.994546693933197, 'not_class_F1': 0.9940384942939874}\n",
      "#############################\n",
      "[17:24:02] WARNING: /Users/ktietz/demo/mc3/conda-bld/xgboost-split_1628682908089/work/src/learner.cc:1061: Starting in XGBoost 1.3.0, the default evaluation metric used with the objective 'binary:logistic' was changed from 'error' to 'logloss'. Explicitly set eval_metric if you'd like to restore the old behavior.\n"
     ]
    },
    {
     "name": "stderr",
     "output_type": "stream",
     "text": [
      "17:24:03 INFO:Complete items 07042\n",
      "17:24:03 INFO:Complete items 00000\n",
      "17:24:03 INFO:Complete items 01000\n",
      "17:24:03 INFO:Complete items 02000\n",
      "17:24:03 INFO:Complete items 03000\n",
      "17:24:03 INFO:Complete items 04000\n",
      "17:24:03 INFO:Complete items 05000\n",
      "17:24:03 INFO:Complete items 06000\n",
      "17:24:03 INFO:Complete items 07000\n",
      "17:24:03 INFO:Complete items 00000\n",
      "17:24:03 INFO:Complete items 01000\n",
      "17:24:03 INFO:Complete items 02000\n",
      "17:24:03 INFO:Complete items 03000\n",
      "17:24:03 INFO:Complete items 04000\n",
      "17:24:03 INFO:Complete items 05000\n",
      "17:24:03 INFO:Complete items 06000\n",
      "17:24:03 INFO:Complete items 07000\n",
      "/Users/ninakamkia/miniforge3/lib/python3.9/site-packages/xgboost/sklearn.py:888: UserWarning: The use of label encoder in XGBClassifier is deprecated and will be removed in a future release. To remove this warning, do the following: 1) Pass option use_label_encoder=False when constructing XGBClassifier object; and 2) Encode your labels (y) as integers starting with 0, i.e. 0, 1, 2, ..., [num_class - 1].\n",
      "  warnings.warn(label_encoder_deprecation_msg, UserWarning)\n"
     ]
    },
    {
     "name": "stdout",
     "output_type": "stream",
     "text": [
      "500 Estimators, rate 0.1, depth 3\n",
      "{'class_prec': 0.9743465634075508, 'class_recall': 0.979800438062789, 'class_F1': 0.9770658900618858, 'not_class_prec': 0.9714874613534867, 'not_class_recall': 0.9638718473074301, 'not_class_F1': 0.9676646706586827}\n",
      "#############################\n",
      "[17:24:03] WARNING: /Users/ktietz/demo/mc3/conda-bld/xgboost-split_1628682908089/work/src/learner.cc:1061: Starting in XGBoost 1.3.0, the default evaluation metric used with the objective 'binary:logistic' was changed from 'error' to 'logloss'. Explicitly set eval_metric if you'd like to restore the old behavior.\n"
     ]
    },
    {
     "name": "stderr",
     "output_type": "stream",
     "text": [
      "17:24:05 INFO:Complete items 07042\n",
      "17:24:05 INFO:Complete items 00000\n",
      "17:24:05 INFO:Complete items 01000\n",
      "17:24:05 INFO:Complete items 02000\n",
      "17:24:05 INFO:Complete items 03000\n",
      "17:24:05 INFO:Complete items 04000\n",
      "17:24:05 INFO:Complete items 05000\n",
      "17:24:05 INFO:Complete items 06000\n",
      "17:24:05 INFO:Complete items 07000\n",
      "17:24:05 INFO:Complete items 00000\n",
      "17:24:05 INFO:Complete items 01000\n",
      "17:24:05 INFO:Complete items 02000\n",
      "17:24:05 INFO:Complete items 03000\n",
      "17:24:05 INFO:Complete items 04000\n",
      "17:24:05 INFO:Complete items 05000\n",
      "17:24:05 INFO:Complete items 06000\n",
      "17:24:05 INFO:Complete items 07000\n",
      "/Users/ninakamkia/miniforge3/lib/python3.9/site-packages/xgboost/sklearn.py:888: UserWarning: The use of label encoder in XGBClassifier is deprecated and will be removed in a future release. To remove this warning, do the following: 1) Pass option use_label_encoder=False when constructing XGBClassifier object; and 2) Encode your labels (y) as integers starting with 0, i.e. 0, 1, 2, ..., [num_class - 1].\n",
      "  warnings.warn(label_encoder_deprecation_msg, UserWarning)\n"
     ]
    },
    {
     "name": "stdout",
     "output_type": "stream",
     "text": [
      "500 Estimators, rate 0.1, depth 6\n",
      "{'class_prec': 1.0, 'class_recall': 1.0, 'class_F1': 1.0, 'not_class_prec': 1.0, 'not_class_recall': 1.0, 'not_class_F1': 1.0}\n",
      "#############################\n",
      "[17:24:05] WARNING: /Users/ktietz/demo/mc3/conda-bld/xgboost-split_1628682908089/work/src/learner.cc:1061: Starting in XGBoost 1.3.0, the default evaluation metric used with the objective 'binary:logistic' was changed from 'error' to 'logloss'. Explicitly set eval_metric if you'd like to restore the old behavior.\n"
     ]
    },
    {
     "name": "stderr",
     "output_type": "stream",
     "text": [
      "17:24:06 INFO:Complete items 07042\n",
      "17:24:06 INFO:Complete items 00000\n",
      "17:24:06 INFO:Complete items 01000\n",
      "17:24:06 INFO:Complete items 02000\n",
      "17:24:06 INFO:Complete items 03000\n",
      "17:24:06 INFO:Complete items 04000\n",
      "17:24:06 INFO:Complete items 05000\n",
      "17:24:06 INFO:Complete items 06000\n",
      "17:24:06 INFO:Complete items 07000\n",
      "17:24:06 INFO:Complete items 00000\n",
      "17:24:06 INFO:Complete items 01000\n",
      "17:24:06 INFO:Complete items 02000\n",
      "17:24:06 INFO:Complete items 03000\n",
      "17:24:06 INFO:Complete items 04000\n",
      "17:24:06 INFO:Complete items 05000\n",
      "17:24:06 INFO:Complete items 06000\n",
      "17:24:06 INFO:Complete items 07000\n",
      "/Users/ninakamkia/miniforge3/lib/python3.9/site-packages/xgboost/sklearn.py:888: UserWarning: The use of label encoder in XGBClassifier is deprecated and will be removed in a future release. To remove this warning, do the following: 1) Pass option use_label_encoder=False when constructing XGBClassifier object; and 2) Encode your labels (y) as integers starting with 0, i.e. 0, 1, 2, ..., [num_class - 1].\n",
      "  warnings.warn(label_encoder_deprecation_msg, UserWarning)\n"
     ]
    },
    {
     "name": "stdout",
     "output_type": "stream",
     "text": [
      "500 Estimators, rate 0.3, depth 3\n",
      "{'class_prec': 0.997808619430241, 'class_recall': 0.9973229496227792, 'class_F1': 0.9975657254138267, 'not_class_prec': 0.9962534059945504, 'not_class_recall': 0.9969325153374233, 'not_class_F1': 0.9965928449744462}\n",
      "#############################\n",
      "[17:24:06] WARNING: /Users/ktietz/demo/mc3/conda-bld/xgboost-split_1628682908089/work/src/learner.cc:1061: Starting in XGBoost 1.3.0, the default evaluation metric used with the objective 'binary:logistic' was changed from 'error' to 'logloss'. Explicitly set eval_metric if you'd like to restore the old behavior.\n"
     ]
    },
    {
     "name": "stderr",
     "output_type": "stream",
     "text": [
      "17:24:07 INFO:Complete items 07042\n",
      "17:24:07 INFO:Complete items 00000\n",
      "17:24:07 INFO:Complete items 01000\n",
      "17:24:07 INFO:Complete items 02000\n",
      "17:24:07 INFO:Complete items 03000\n",
      "17:24:07 INFO:Complete items 04000\n",
      "17:24:07 INFO:Complete items 05000\n",
      "17:24:07 INFO:Complete items 06000\n",
      "17:24:07 INFO:Complete items 07000\n",
      "17:24:07 INFO:Complete items 00000\n",
      "17:24:07 INFO:Complete items 01000\n",
      "17:24:07 INFO:Complete items 02000\n",
      "17:24:07 INFO:Complete items 03000\n",
      "17:24:07 INFO:Complete items 04000\n",
      "17:24:07 INFO:Complete items 05000\n",
      "17:24:07 INFO:Complete items 06000\n",
      "17:24:07 INFO:Complete items 07000\n",
      "/Users/ninakamkia/miniforge3/lib/python3.9/site-packages/xgboost/sklearn.py:888: UserWarning: The use of label encoder in XGBClassifier is deprecated and will be removed in a future release. To remove this warning, do the following: 1) Pass option use_label_encoder=False when constructing XGBClassifier object; and 2) Encode your labels (y) as integers starting with 0, i.e. 0, 1, 2, ..., [num_class - 1].\n",
      "  warnings.warn(label_encoder_deprecation_msg, UserWarning)\n"
     ]
    },
    {
     "name": "stdout",
     "output_type": "stream",
     "text": [
      "500 Estimators, rate 0.3, depth 6\n",
      "{'class_prec': 1.0, 'class_recall': 1.0, 'class_F1': 1.0, 'not_class_prec': 1.0, 'not_class_recall': 1.0, 'not_class_F1': 1.0}\n",
      "#############################\n",
      "[17:24:07] WARNING: /Users/ktietz/demo/mc3/conda-bld/xgboost-split_1628682908089/work/src/learner.cc:1061: Starting in XGBoost 1.3.0, the default evaluation metric used with the objective 'binary:logistic' was changed from 'error' to 'logloss'. Explicitly set eval_metric if you'd like to restore the old behavior.\n"
     ]
    },
    {
     "name": "stderr",
     "output_type": "stream",
     "text": [
      "17:24:08 INFO:Complete items 07042\n",
      "17:24:08 INFO:Complete items 00000\n",
      "17:24:08 INFO:Complete items 01000\n",
      "17:24:08 INFO:Complete items 02000\n",
      "17:24:08 INFO:Complete items 03000\n",
      "17:24:08 INFO:Complete items 04000\n",
      "17:24:08 INFO:Complete items 05000\n",
      "17:24:08 INFO:Complete items 06000\n",
      "17:24:08 INFO:Complete items 07000\n",
      "17:24:08 INFO:Complete items 00000\n",
      "17:24:08 INFO:Complete items 01000\n",
      "17:24:08 INFO:Complete items 02000\n",
      "17:24:08 INFO:Complete items 03000\n",
      "17:24:08 INFO:Complete items 04000\n",
      "17:24:08 INFO:Complete items 05000\n",
      "17:24:08 INFO:Complete items 06000\n",
      "17:24:08 INFO:Complete items 07000\n",
      "/Users/ninakamkia/miniforge3/lib/python3.9/site-packages/xgboost/sklearn.py:888: UserWarning: The use of label encoder in XGBClassifier is deprecated and will be removed in a future release. To remove this warning, do the following: 1) Pass option use_label_encoder=False when constructing XGBClassifier object; and 2) Encode your labels (y) as integers starting with 0, i.e. 0, 1, 2, ..., [num_class - 1].\n",
      "  warnings.warn(label_encoder_deprecation_msg, UserWarning)\n"
     ]
    },
    {
     "name": "stdout",
     "output_type": "stream",
     "text": [
      "750 Estimators, rate 0.05, depth 3\n",
      "{'class_prec': 0.9650938854116514, 'class_recall': 0.9756631783889024, 'class_F1': 0.9703497519060874, 'not_class_prec': 0.965385946694358, 'not_class_recall': 0.9505794137695979, 'not_class_F1': 0.9579254679718358}\n",
      "#############################\n",
      "[17:24:08] WARNING: /Users/ktietz/demo/mc3/conda-bld/xgboost-split_1628682908089/work/src/learner.cc:1061: Starting in XGBoost 1.3.0, the default evaluation metric used with the objective 'binary:logistic' was changed from 'error' to 'logloss'. Explicitly set eval_metric if you'd like to restore the old behavior.\n"
     ]
    },
    {
     "name": "stderr",
     "output_type": "stream",
     "text": [
      "17:24:10 INFO:Complete items 07042\n",
      "17:24:10 INFO:Complete items 00000\n",
      "17:24:10 INFO:Complete items 01000\n",
      "17:24:10 INFO:Complete items 02000\n",
      "17:24:10 INFO:Complete items 03000\n",
      "17:24:10 INFO:Complete items 04000\n",
      "17:24:10 INFO:Complete items 05000\n",
      "17:24:10 INFO:Complete items 06000\n",
      "17:24:10 INFO:Complete items 07000\n",
      "17:24:10 INFO:Complete items 00000\n",
      "17:24:10 INFO:Complete items 01000\n",
      "17:24:10 INFO:Complete items 02000\n",
      "17:24:10 INFO:Complete items 03000\n",
      "17:24:10 INFO:Complete items 04000\n",
      "17:24:10 INFO:Complete items 05000\n",
      "17:24:10 INFO:Complete items 06000\n",
      "17:24:10 INFO:Complete items 07000\n",
      "/Users/ninakamkia/miniforge3/lib/python3.9/site-packages/xgboost/sklearn.py:888: UserWarning: The use of label encoder in XGBClassifier is deprecated and will be removed in a future release. To remove this warning, do the following: 1) Pass option use_label_encoder=False when constructing XGBClassifier object; and 2) Encode your labels (y) as integers starting with 0, i.e. 0, 1, 2, ..., [num_class - 1].\n",
      "  warnings.warn(label_encoder_deprecation_msg, UserWarning)\n"
     ]
    },
    {
     "name": "stdout",
     "output_type": "stream",
     "text": [
      "750 Estimators, rate 0.05, depth 6\n",
      "{'class_prec': 0.999513263567778, 'class_recall': 0.999513263567778, 'class_F1': 0.999513263567778, 'not_class_prec': 0.9993183367416496, 'not_class_recall': 0.9993183367416496, 'not_class_F1': 0.9993183367416496}\n",
      "#############################\n",
      "[17:24:10] WARNING: /Users/ktietz/demo/mc3/conda-bld/xgboost-split_1628682908089/work/src/learner.cc:1061: Starting in XGBoost 1.3.0, the default evaluation metric used with the objective 'binary:logistic' was changed from 'error' to 'logloss'. Explicitly set eval_metric if you'd like to restore the old behavior.\n"
     ]
    },
    {
     "name": "stderr",
     "output_type": "stream",
     "text": [
      "17:24:12 INFO:Complete items 07042\n",
      "17:24:12 INFO:Complete items 00000\n",
      "17:24:12 INFO:Complete items 01000\n",
      "17:24:12 INFO:Complete items 02000\n",
      "17:24:12 INFO:Complete items 03000\n",
      "17:24:12 INFO:Complete items 04000\n",
      "17:24:12 INFO:Complete items 05000\n",
      "17:24:12 INFO:Complete items 06000\n",
      "17:24:12 INFO:Complete items 07000\n",
      "17:24:12 INFO:Complete items 00000\n",
      "17:24:12 INFO:Complete items 01000\n",
      "17:24:12 INFO:Complete items 02000\n",
      "17:24:12 INFO:Complete items 03000\n",
      "17:24:12 INFO:Complete items 04000\n",
      "17:24:12 INFO:Complete items 05000\n",
      "17:24:12 INFO:Complete items 06000\n",
      "17:24:12 INFO:Complete items 07000\n",
      "/Users/ninakamkia/miniforge3/lib/python3.9/site-packages/xgboost/sklearn.py:888: UserWarning: The use of label encoder in XGBClassifier is deprecated and will be removed in a future release. To remove this warning, do the following: 1) Pass option use_label_encoder=False when constructing XGBClassifier object; and 2) Encode your labels (y) as integers starting with 0, i.e. 0, 1, 2, ..., [num_class - 1].\n",
      "  warnings.warn(label_encoder_deprecation_msg, UserWarning)\n"
     ]
    },
    {
     "name": "stdout",
     "output_type": "stream",
     "text": [
      "750 Estimators, rate 0.1, depth 3\n",
      "{'class_prec': 0.9842194707453266, 'class_recall': 0.9866147481138964, 'class_F1': 0.9854156538648517, 'not_class_prec': 0.9811901504787962, 'not_class_recall': 0.9778459441036128, 'not_class_F1': 0.9795151928986002}\n",
      "#############################\n",
      "[17:24:12] WARNING: /Users/ktietz/demo/mc3/conda-bld/xgboost-split_1628682908089/work/src/learner.cc:1061: Starting in XGBoost 1.3.0, the default evaluation metric used with the objective 'binary:logistic' was changed from 'error' to 'logloss'. Explicitly set eval_metric if you'd like to restore the old behavior.\n"
     ]
    },
    {
     "name": "stderr",
     "output_type": "stream",
     "text": [
      "17:24:14 INFO:Complete items 07042\n",
      "17:24:14 INFO:Complete items 00000\n",
      "17:24:14 INFO:Complete items 01000\n",
      "17:24:14 INFO:Complete items 02000\n",
      "17:24:14 INFO:Complete items 03000\n",
      "17:24:14 INFO:Complete items 04000\n",
      "17:24:14 INFO:Complete items 05000\n",
      "17:24:14 INFO:Complete items 06000\n",
      "17:24:14 INFO:Complete items 07000\n",
      "17:24:14 INFO:Complete items 00000\n",
      "17:24:14 INFO:Complete items 01000\n",
      "17:24:14 INFO:Complete items 02000\n",
      "17:24:14 INFO:Complete items 03000\n",
      "17:24:14 INFO:Complete items 04000\n",
      "17:24:14 INFO:Complete items 05000\n",
      "17:24:14 INFO:Complete items 06000\n",
      "17:24:14 INFO:Complete items 07000\n",
      "/Users/ninakamkia/miniforge3/lib/python3.9/site-packages/xgboost/sklearn.py:888: UserWarning: The use of label encoder in XGBClassifier is deprecated and will be removed in a future release. To remove this warning, do the following: 1) Pass option use_label_encoder=False when constructing XGBClassifier object; and 2) Encode your labels (y) as integers starting with 0, i.e. 0, 1, 2, ..., [num_class - 1].\n",
      "  warnings.warn(label_encoder_deprecation_msg, UserWarning)\n"
     ]
    },
    {
     "name": "stdout",
     "output_type": "stream",
     "text": [
      "750 Estimators, rate 0.1, depth 6\n",
      "{'class_prec': 1.0, 'class_recall': 1.0, 'class_F1': 1.0, 'not_class_prec': 1.0, 'not_class_recall': 1.0, 'not_class_F1': 1.0}\n",
      "#############################\n",
      "[17:24:14] WARNING: /Users/ktietz/demo/mc3/conda-bld/xgboost-split_1628682908089/work/src/learner.cc:1061: Starting in XGBoost 1.3.0, the default evaluation metric used with the objective 'binary:logistic' was changed from 'error' to 'logloss'. Explicitly set eval_metric if you'd like to restore the old behavior.\n"
     ]
    },
    {
     "name": "stderr",
     "output_type": "stream",
     "text": [
      "17:24:15 INFO:Complete items 07042\n",
      "17:24:15 INFO:Complete items 00000\n",
      "17:24:15 INFO:Complete items 01000\n",
      "17:24:15 INFO:Complete items 02000\n",
      "17:24:15 INFO:Complete items 03000\n",
      "17:24:15 INFO:Complete items 04000\n",
      "17:24:15 INFO:Complete items 05000\n",
      "17:24:15 INFO:Complete items 06000\n",
      "17:24:15 INFO:Complete items 07000\n",
      "17:24:15 INFO:Complete items 00000\n",
      "17:24:15 INFO:Complete items 01000\n",
      "17:24:15 INFO:Complete items 02000\n",
      "17:24:15 INFO:Complete items 03000\n",
      "17:24:15 INFO:Complete items 04000\n",
      "17:24:15 INFO:Complete items 05000\n",
      "17:24:15 INFO:Complete items 06000\n",
      "17:24:15 INFO:Complete items 07000\n",
      "/Users/ninakamkia/miniforge3/lib/python3.9/site-packages/xgboost/sklearn.py:888: UserWarning: The use of label encoder in XGBClassifier is deprecated and will be removed in a future release. To remove this warning, do the following: 1) Pass option use_label_encoder=False when constructing XGBClassifier object; and 2) Encode your labels (y) as integers starting with 0, i.e. 0, 1, 2, ..., [num_class - 1].\n",
      "  warnings.warn(label_encoder_deprecation_msg, UserWarning)\n"
     ]
    },
    {
     "name": "stdout",
     "output_type": "stream",
     "text": [
      "750 Estimators, rate 0.3, depth 3\n",
      "{'class_prec': 1.0, 'class_recall': 1.0, 'class_F1': 1.0, 'not_class_prec': 1.0, 'not_class_recall': 1.0, 'not_class_F1': 1.0}\n",
      "#############################\n",
      "[17:24:15] WARNING: /Users/ktietz/demo/mc3/conda-bld/xgboost-split_1628682908089/work/src/learner.cc:1061: Starting in XGBoost 1.3.0, the default evaluation metric used with the objective 'binary:logistic' was changed from 'error' to 'logloss'. Explicitly set eval_metric if you'd like to restore the old behavior.\n"
     ]
    },
    {
     "name": "stderr",
     "output_type": "stream",
     "text": [
      "17:24:17 INFO:Complete items 07042\n",
      "17:24:17 INFO:Complete items 00000\n",
      "17:24:17 INFO:Complete items 01000\n",
      "17:24:17 INFO:Complete items 02000\n",
      "17:24:17 INFO:Complete items 03000\n",
      "17:24:17 INFO:Complete items 04000\n",
      "17:24:17 INFO:Complete items 05000\n",
      "17:24:17 INFO:Complete items 06000\n",
      "17:24:17 INFO:Complete items 07000\n",
      "17:24:17 INFO:Complete items 00000\n",
      "17:24:17 INFO:Complete items 01000\n",
      "17:24:17 INFO:Complete items 02000\n",
      "17:24:17 INFO:Complete items 03000\n",
      "17:24:17 INFO:Complete items 04000\n",
      "17:24:17 INFO:Complete items 05000\n",
      "17:24:17 INFO:Complete items 06000\n",
      "17:24:17 INFO:Complete items 07000\n",
      "/Users/ninakamkia/miniforge3/lib/python3.9/site-packages/xgboost/sklearn.py:888: UserWarning: The use of label encoder in XGBClassifier is deprecated and will be removed in a future release. To remove this warning, do the following: 1) Pass option use_label_encoder=False when constructing XGBClassifier object; and 2) Encode your labels (y) as integers starting with 0, i.e. 0, 1, 2, ..., [num_class - 1].\n",
      "  warnings.warn(label_encoder_deprecation_msg, UserWarning)\n"
     ]
    },
    {
     "name": "stdout",
     "output_type": "stream",
     "text": [
      "750 Estimators, rate 0.3, depth 6\n",
      "{'class_prec': 1.0, 'class_recall': 1.0, 'class_F1': 1.0, 'not_class_prec': 1.0, 'not_class_recall': 1.0, 'not_class_F1': 1.0}\n",
      "#############################\n",
      "[17:24:17] WARNING: /Users/ktietz/demo/mc3/conda-bld/xgboost-split_1628682908089/work/src/learner.cc:1061: Starting in XGBoost 1.3.0, the default evaluation metric used with the objective 'binary:logistic' was changed from 'error' to 'logloss'. Explicitly set eval_metric if you'd like to restore the old behavior.\n"
     ]
    },
    {
     "name": "stderr",
     "output_type": "stream",
     "text": [
      "17:24:19 INFO:Complete items 07042\n",
      "17:24:19 INFO:Complete items 00000\n",
      "17:24:19 INFO:Complete items 01000\n",
      "17:24:19 INFO:Complete items 02000\n",
      "17:24:19 INFO:Complete items 03000\n",
      "17:24:19 INFO:Complete items 04000\n",
      "17:24:19 INFO:Complete items 05000\n",
      "17:24:19 INFO:Complete items 06000\n",
      "17:24:19 INFO:Complete items 07000\n",
      "17:24:19 INFO:Complete items 00000\n",
      "17:24:19 INFO:Complete items 01000\n",
      "17:24:19 INFO:Complete items 02000\n",
      "17:24:19 INFO:Complete items 03000\n",
      "17:24:19 INFO:Complete items 04000\n",
      "17:24:19 INFO:Complete items 05000\n",
      "17:24:19 INFO:Complete items 06000\n",
      "17:24:19 INFO:Complete items 07000\n",
      "/Users/ninakamkia/miniforge3/lib/python3.9/site-packages/xgboost/sklearn.py:888: UserWarning: The use of label encoder in XGBClassifier is deprecated and will be removed in a future release. To remove this warning, do the following: 1) Pass option use_label_encoder=False when constructing XGBClassifier object; and 2) Encode your labels (y) as integers starting with 0, i.e. 0, 1, 2, ..., [num_class - 1].\n",
      "  warnings.warn(label_encoder_deprecation_msg, UserWarning)\n"
     ]
    },
    {
     "name": "stdout",
     "output_type": "stream",
     "text": [
      "1000 Estimators, rate 0.05, depth 3\n",
      "{'class_prec': 0.9750484496124031, 'class_recall': 0.979557069846678, 'class_F1': 0.9772975597911862, 'not_class_prec': 0.9711835334476844, 'not_class_recall': 0.9648943421949557, 'not_class_F1': 0.9680287228586083}\n",
      "#############################\n",
      "[17:24:19] WARNING: /Users/ktietz/demo/mc3/conda-bld/xgboost-split_1628682908089/work/src/learner.cc:1061: Starting in XGBoost 1.3.0, the default evaluation metric used with the objective 'binary:logistic' was changed from 'error' to 'logloss'. Explicitly set eval_metric if you'd like to restore the old behavior.\n"
     ]
    },
    {
     "name": "stderr",
     "output_type": "stream",
     "text": [
      "17:24:22 INFO:Complete items 07042\n",
      "17:24:22 INFO:Complete items 00000\n",
      "17:24:22 INFO:Complete items 01000\n",
      "17:24:22 INFO:Complete items 02000\n",
      "17:24:22 INFO:Complete items 03000\n",
      "17:24:22 INFO:Complete items 04000\n",
      "17:24:22 INFO:Complete items 05000\n",
      "17:24:22 INFO:Complete items 06000\n",
      "17:24:22 INFO:Complete items 07000\n",
      "17:24:22 INFO:Complete items 00000\n",
      "17:24:22 INFO:Complete items 01000\n",
      "17:24:22 INFO:Complete items 02000\n",
      "17:24:22 INFO:Complete items 03000\n",
      "17:24:22 INFO:Complete items 04000\n",
      "17:24:22 INFO:Complete items 05000\n",
      "17:24:22 INFO:Complete items 06000\n",
      "17:24:22 INFO:Complete items 07000\n",
      "/Users/ninakamkia/miniforge3/lib/python3.9/site-packages/xgboost/sklearn.py:888: UserWarning: The use of label encoder in XGBClassifier is deprecated and will be removed in a future release. To remove this warning, do the following: 1) Pass option use_label_encoder=False when constructing XGBClassifier object; and 2) Encode your labels (y) as integers starting with 0, i.e. 0, 1, 2, ..., [num_class - 1].\n",
      "  warnings.warn(label_encoder_deprecation_msg, UserWarning)\n"
     ]
    },
    {
     "name": "stdout",
     "output_type": "stream",
     "text": [
      "1000 Estimators, rate 0.05, depth 6\n",
      "{'class_prec': 1.0, 'class_recall': 1.0, 'class_F1': 1.0, 'not_class_prec': 1.0, 'not_class_recall': 1.0, 'not_class_F1': 1.0}\n",
      "#############################\n",
      "[17:24:22] WARNING: /Users/ktietz/demo/mc3/conda-bld/xgboost-split_1628682908089/work/src/learner.cc:1061: Starting in XGBoost 1.3.0, the default evaluation metric used with the objective 'binary:logistic' was changed from 'error' to 'logloss'. Explicitly set eval_metric if you'd like to restore the old behavior.\n"
     ]
    },
    {
     "name": "stderr",
     "output_type": "stream",
     "text": [
      "17:24:24 INFO:Complete items 07042\n",
      "17:24:24 INFO:Complete items 00000\n",
      "17:24:24 INFO:Complete items 01000\n",
      "17:24:24 INFO:Complete items 02000\n",
      "17:24:24 INFO:Complete items 03000\n",
      "17:24:24 INFO:Complete items 04000\n",
      "17:24:24 INFO:Complete items 05000\n",
      "17:24:24 INFO:Complete items 06000\n",
      "17:24:24 INFO:Complete items 07000\n",
      "17:24:24 INFO:Complete items 00000\n",
      "17:24:24 INFO:Complete items 01000\n",
      "17:24:24 INFO:Complete items 02000\n",
      "17:24:24 INFO:Complete items 03000\n",
      "17:24:24 INFO:Complete items 04000\n",
      "17:24:24 INFO:Complete items 05000\n",
      "17:24:24 INFO:Complete items 06000\n",
      "17:24:24 INFO:Complete items 07000\n",
      "/Users/ninakamkia/miniforge3/lib/python3.9/site-packages/xgboost/sklearn.py:888: UserWarning: The use of label encoder in XGBClassifier is deprecated and will be removed in a future release. To remove this warning, do the following: 1) Pass option use_label_encoder=False when constructing XGBClassifier object; and 2) Encode your labels (y) as integers starting with 0, i.e. 0, 1, 2, ..., [num_class - 1].\n",
      "  warnings.warn(label_encoder_deprecation_msg, UserWarning)\n"
     ]
    },
    {
     "name": "stdout",
     "output_type": "stream",
     "text": [
      "1000 Estimators, rate 0.1, depth 3\n",
      "{'class_prec': 0.9890829694323144, 'class_recall': 0.9922122170844487, 'class_F1': 0.9906451220993804, 'not_class_prec': 0.9890448476549127, 'not_class_recall': 0.9846625766871165, 'not_class_F1': 0.9868488471391973}\n",
      "#############################\n",
      "[17:24:24] WARNING: /Users/ktietz/demo/mc3/conda-bld/xgboost-split_1628682908089/work/src/learner.cc:1061: Starting in XGBoost 1.3.0, the default evaluation metric used with the objective 'binary:logistic' was changed from 'error' to 'logloss'. Explicitly set eval_metric if you'd like to restore the old behavior.\n"
     ]
    },
    {
     "name": "stderr",
     "output_type": "stream",
     "text": [
      "17:24:27 INFO:Complete items 07042\n",
      "17:24:27 INFO:Complete items 00000\n",
      "17:24:27 INFO:Complete items 01000\n",
      "17:24:27 INFO:Complete items 02000\n",
      "17:24:27 INFO:Complete items 03000\n",
      "17:24:27 INFO:Complete items 04000\n",
      "17:24:27 INFO:Complete items 05000\n",
      "17:24:27 INFO:Complete items 06000\n",
      "17:24:27 INFO:Complete items 07000\n",
      "17:24:27 INFO:Complete items 00000\n",
      "17:24:27 INFO:Complete items 01000\n",
      "17:24:27 INFO:Complete items 02000\n",
      "17:24:27 INFO:Complete items 03000\n",
      "17:24:27 INFO:Complete items 04000\n",
      "17:24:27 INFO:Complete items 05000\n",
      "17:24:27 INFO:Complete items 06000\n",
      "17:24:27 INFO:Complete items 07000\n",
      "/Users/ninakamkia/miniforge3/lib/python3.9/site-packages/xgboost/sklearn.py:888: UserWarning: The use of label encoder in XGBClassifier is deprecated and will be removed in a future release. To remove this warning, do the following: 1) Pass option use_label_encoder=False when constructing XGBClassifier object; and 2) Encode your labels (y) as integers starting with 0, i.e. 0, 1, 2, ..., [num_class - 1].\n",
      "  warnings.warn(label_encoder_deprecation_msg, UserWarning)\n"
     ]
    },
    {
     "name": "stdout",
     "output_type": "stream",
     "text": [
      "1000 Estimators, rate 0.1, depth 6\n",
      "{'class_prec': 1.0, 'class_recall': 1.0, 'class_F1': 1.0, 'not_class_prec': 1.0, 'not_class_recall': 1.0, 'not_class_F1': 1.0}\n",
      "#############################\n",
      "[17:24:27] WARNING: /Users/ktietz/demo/mc3/conda-bld/xgboost-split_1628682908089/work/src/learner.cc:1061: Starting in XGBoost 1.3.0, the default evaluation metric used with the objective 'binary:logistic' was changed from 'error' to 'logloss'. Explicitly set eval_metric if you'd like to restore the old behavior.\n"
     ]
    },
    {
     "name": "stderr",
     "output_type": "stream",
     "text": [
      "17:24:29 INFO:Complete items 07042\n",
      "17:24:29 INFO:Complete items 00000\n",
      "17:24:29 INFO:Complete items 01000\n",
      "17:24:29 INFO:Complete items 02000\n",
      "17:24:29 INFO:Complete items 03000\n",
      "17:24:29 INFO:Complete items 04000\n",
      "17:24:29 INFO:Complete items 05000\n",
      "17:24:29 INFO:Complete items 06000\n",
      "17:24:29 INFO:Complete items 07000\n",
      "17:24:29 INFO:Complete items 00000\n",
      "17:24:29 INFO:Complete items 01000\n",
      "17:24:29 INFO:Complete items 02000\n",
      "17:24:29 INFO:Complete items 03000\n",
      "17:24:29 INFO:Complete items 04000\n",
      "17:24:29 INFO:Complete items 05000\n",
      "17:24:29 INFO:Complete items 06000\n",
      "17:24:29 INFO:Complete items 07000\n",
      "/Users/ninakamkia/miniforge3/lib/python3.9/site-packages/xgboost/sklearn.py:888: UserWarning: The use of label encoder in XGBClassifier is deprecated and will be removed in a future release. To remove this warning, do the following: 1) Pass option use_label_encoder=False when constructing XGBClassifier object; and 2) Encode your labels (y) as integers starting with 0, i.e. 0, 1, 2, ..., [num_class - 1].\n",
      "  warnings.warn(label_encoder_deprecation_msg, UserWarning)\n"
     ]
    },
    {
     "name": "stdout",
     "output_type": "stream",
     "text": [
      "1000 Estimators, rate 0.3, depth 3\n",
      "{'class_prec': 1.0, 'class_recall': 1.0, 'class_F1': 1.0, 'not_class_prec': 1.0, 'not_class_recall': 1.0, 'not_class_F1': 1.0}\n",
      "#############################\n",
      "[17:24:29] WARNING: /Users/ktietz/demo/mc3/conda-bld/xgboost-split_1628682908089/work/src/learner.cc:1061: Starting in XGBoost 1.3.0, the default evaluation metric used with the objective 'binary:logistic' was changed from 'error' to 'logloss'. Explicitly set eval_metric if you'd like to restore the old behavior.\n"
     ]
    },
    {
     "name": "stderr",
     "output_type": "stream",
     "text": [
      "17:24:32 INFO:Complete items 07042\n",
      "17:24:32 INFO:Complete items 00000\n",
      "17:24:32 INFO:Complete items 01000\n",
      "17:24:32 INFO:Complete items 02000\n",
      "17:24:32 INFO:Complete items 03000\n",
      "17:24:32 INFO:Complete items 04000\n",
      "17:24:32 INFO:Complete items 05000\n",
      "17:24:32 INFO:Complete items 06000\n",
      "17:24:32 INFO:Complete items 07000\n"
     ]
    },
    {
     "name": "stdout",
     "output_type": "stream",
     "text": [
      "1000 Estimators, rate 0.3, depth 6\n",
      "{'class_prec': 1.0, 'class_recall': 1.0, 'class_F1': 1.0, 'not_class_prec': 1.0, 'not_class_recall': 1.0, 'not_class_F1': 1.0}\n",
      "#############################\n",
      "<__main__.Classifier object at 0x16917fd00>\n"
     ]
    }
   ],
   "source": [
    "best_score = 0\n",
    "\n",
    "for n_estimators in (500, 750, 1000):\n",
    "    for learning_rate in (0.05, 0.1, 0.3):\n",
    "        for max_depth in (3,6):\n",
    "            \n",
    "            classifier = Classifier(n_estimators = n_estimators,\n",
    "                                    learning_rate = learning_rate,\n",
    "                                    max_depth = max_depth)\n",
    "            \n",
    "            classifier.train(train_docs)\n",
    "            print(\"{} Estimators, rate {}, depth {}\".format(n_estimators, learning_rate, max_depth))\n",
    "            metrics = calculate_metrics(train_docs, classifier)\n",
    "            print(metrics)\n",
    "            \n",
    "            if (metrics['class_F1'] + metrics['not_class_F1']) / 2 > best_score:\n",
    "                best_score = (metrics['class_F1'] + metrics['not_class_F1']) / 2\n",
    "                best_model = classifier\n",
    "            \n",
    "            print('#############################')\n",
    "            \n",
    "print(best_model)"
   ]
  },
  {
   "cell_type": "code",
   "execution_count": 76,
   "metadata": {
    "scrolled": true
   },
   "outputs": [
    {
     "name": "stderr",
     "output_type": "stream",
     "text": [
      "17:25:40 INFO:Complete items 00000\n",
      "17:26:53 INFO:Complete items 01000\n",
      "17:27:59 INFO:Complete items 02000\n",
      "17:29:10 INFO:Complete items 03000\n",
      "17:30:15 INFO:Complete items 04000\n",
      "17:31:17 INFO:Complete items 05000\n",
      "17:32:23 INFO:Complete items 06000\n",
      "17:33:28 INFO:Complete items 07000\n",
      "17:34:31 INFO:Complete items 08000\n",
      "17:35:33 INFO:Complete items 09000\n",
      "17:36:45 INFO:Complete items 10000\n",
      "17:37:45 INFO:Complete items 11000\n",
      "17:38:47 INFO:Complete items 12000\n",
      "17:39:46 INFO:Complete items 13000\n",
      "17:40:52 INFO:Complete items 14000\n",
      "17:41:59 INFO:Complete items 15000\n",
      "17:43:05 INFO:Complete items 16000\n",
      "17:43:08 INFO:Complete items 16038\n"
     ]
    }
   ],
   "source": [
    "test_docs = list(load_csv('kaggle_test_data_tab.csv', calc_features))"
   ]
  },
  {
   "cell_type": "code",
   "execution_count": 77,
   "metadata": {},
   "outputs": [
    {
     "name": "stderr",
     "output_type": "stream",
     "text": [
      "17:43:53 INFO:Complete items 00000\n",
      "17:43:53 INFO:Complete items 01000\n",
      "17:43:53 INFO:Complete items 02000\n",
      "17:43:53 INFO:Complete items 03000\n",
      "17:43:53 INFO:Complete items 04000\n",
      "17:43:53 INFO:Complete items 05000\n",
      "17:43:53 INFO:Complete items 06000\n",
      "17:43:53 INFO:Complete items 07000\n",
      "17:43:53 INFO:Complete items 08000\n",
      "17:43:53 INFO:Complete items 09000\n",
      "17:43:53 INFO:Complete items 10000\n",
      "17:43:53 INFO:Complete items 11000\n",
      "17:43:53 INFO:Complete items 12000\n",
      "17:43:53 INFO:Complete items 13000\n",
      "17:43:53 INFO:Complete items 14000\n",
      "17:43:53 INFO:Complete items 15000\n",
      "17:43:53 INFO:Complete items 16000\n"
     ]
    }
   ],
   "source": [
    "preds = best_model.predict_all(test_docs)\n",
    "\n",
    "ids = [i[0] for i in preds]\n",
    "predictions = [i[3] for i in preds]\n",
    "\n",
    "res = np.array(list(zip(ids, predictions)))\n",
    "df = pd.DataFrame(res, columns = ['Id', 'Prediction'])\n",
    "df.to_csv('submission.csv', index = False)"
   ]
  },
  {
   "cell_type": "code",
   "execution_count": 78,
   "metadata": {},
   "outputs": [
    {
     "data": {
      "text/html": [
       "<div>\n",
       "<style scoped>\n",
       "    .dataframe tbody tr th:only-of-type {\n",
       "        vertical-align: middle;\n",
       "    }\n",
       "\n",
       "    .dataframe tbody tr th {\n",
       "        vertical-align: top;\n",
       "    }\n",
       "\n",
       "    .dataframe thead th {\n",
       "        text-align: right;\n",
       "    }\n",
       "</style>\n",
       "<table border=\"1\" class=\"dataframe\">\n",
       "  <thead>\n",
       "    <tr style=\"text-align: right;\">\n",
       "      <th></th>\n",
       "      <th>Id</th>\n",
       "      <th>Prediction</th>\n",
       "    </tr>\n",
       "  </thead>\n",
       "  <tbody>\n",
       "    <tr>\n",
       "      <th>0</th>\n",
       "      <td>-9219333997282093076</td>\n",
       "      <td>1</td>\n",
       "    </tr>\n",
       "    <tr>\n",
       "      <th>1</th>\n",
       "      <td>-9216796593526314243</td>\n",
       "      <td>1</td>\n",
       "    </tr>\n",
       "    <tr>\n",
       "      <th>2</th>\n",
       "      <td>-9216634615606576667</td>\n",
       "      <td>0</td>\n",
       "    </tr>\n",
       "    <tr>\n",
       "      <th>3</th>\n",
       "      <td>-9215626373068452590</td>\n",
       "      <td>0</td>\n",
       "    </tr>\n",
       "    <tr>\n",
       "      <th>4</th>\n",
       "      <td>-9215403080479774736</td>\n",
       "      <td>1</td>\n",
       "    </tr>\n",
       "    <tr>\n",
       "      <th>...</th>\n",
       "      <td>...</td>\n",
       "      <td>...</td>\n",
       "    </tr>\n",
       "    <tr>\n",
       "      <th>16034</th>\n",
       "      <td>9218204062988789622</td>\n",
       "      <td>0</td>\n",
       "    </tr>\n",
       "    <tr>\n",
       "      <th>16035</th>\n",
       "      <td>9220928100490675079</td>\n",
       "      <td>1</td>\n",
       "    </tr>\n",
       "    <tr>\n",
       "      <th>16036</th>\n",
       "      <td>9221176609623644378</td>\n",
       "      <td>0</td>\n",
       "    </tr>\n",
       "    <tr>\n",
       "      <th>16037</th>\n",
       "      <td>9222842529328016414</td>\n",
       "      <td>0</td>\n",
       "    </tr>\n",
       "    <tr>\n",
       "      <th>16038</th>\n",
       "      <td>9222921512106423110</td>\n",
       "      <td>1</td>\n",
       "    </tr>\n",
       "  </tbody>\n",
       "</table>\n",
       "<p>16039 rows × 2 columns</p>\n",
       "</div>"
      ],
      "text/plain": [
       "                        Id  Prediction\n",
       "0     -9219333997282093076           1\n",
       "1     -9216796593526314243           1\n",
       "2     -9216634615606576667           0\n",
       "3     -9215626373068452590           0\n",
       "4     -9215403080479774736           1\n",
       "...                    ...         ...\n",
       "16034  9218204062988789622           0\n",
       "16035  9220928100490675079           1\n",
       "16036  9221176609623644378           0\n",
       "16037  9222842529328016414           0\n",
       "16038  9222921512106423110           1\n",
       "\n",
       "[16039 rows x 2 columns]"
      ]
     },
     "execution_count": 78,
     "metadata": {},
     "output_type": "execute_result"
    }
   ],
   "source": [
    "pd.read_csv('submission.csv')"
   ]
  },
  {
   "cell_type": "markdown",
   "metadata": {},
   "source": [
    "** Рисуем графики **"
   ]
  },
  {
   "cell_type": "code",
   "execution_count": 79,
   "metadata": {
    "scrolled": true
   },
   "outputs": [
    {
     "name": "stderr",
     "output_type": "stream",
     "text": [
      "17:43:58 INFO:Complete items 00000\n",
      "17:43:58 INFO:Complete items 01000\n",
      "17:43:58 INFO:Complete items 02000\n",
      "17:43:58 INFO:Complete items 03000\n",
      "17:43:58 INFO:Complete items 04000\n",
      "17:43:58 INFO:Complete items 05000\n",
      "17:43:58 INFO:Complete items 06000\n",
      "17:43:58 INFO:Complete items 07000\n"
     ]
    },
    {
     "ename": "AttributeError",
     "evalue": "'int' object has no attribute 'predict_all'",
     "output_type": "error",
     "traceback": [
      "\u001b[0;31m---------------------------------------------------------------------------\u001b[0m",
      "\u001b[0;31mAttributeError\u001b[0m                            Traceback (most recent call last)",
      "\u001b[0;32m/var/folders/nm/069lgdbn421gcgtpcwrx9bd40000gn/T/ipykernel_22108/2680416896.py\u001b[0m in \u001b[0;36m<module>\u001b[0;34m\u001b[0m\n\u001b[0;32m----> 1\u001b[0;31m \u001b[0mplot_results\u001b[0m\u001b[0;34m(\u001b[0m\u001b[0mtrain_docs\u001b[0m\u001b[0;34m,\u001b[0m \u001b[0mmin_threshold\u001b[0m\u001b[0;34m=\u001b[0m\u001b[0;36m0\u001b[0m\u001b[0;34m,\u001b[0m \u001b[0mmax_threshold\u001b[0m\u001b[0;34m=\u001b[0m\u001b[0;36m3000\u001b[0m\u001b[0;34m,\u001b[0m \u001b[0mstep\u001b[0m\u001b[0;34m=\u001b[0m\u001b[0;36m100\u001b[0m\u001b[0;34m,\u001b[0m \u001b[0mtrace\u001b[0m\u001b[0;34m=\u001b[0m\u001b[0;36m1\u001b[0m\u001b[0;34m)\u001b[0m\u001b[0;34m\u001b[0m\u001b[0;34m\u001b[0m\u001b[0m\n\u001b[0m",
      "\u001b[0;32m/var/folders/nm/069lgdbn421gcgtpcwrx9bd40000gn/T/ipykernel_22108/749308348.py\u001b[0m in \u001b[0;36mplot_results\u001b[0;34m(docs, min_threshold, max_threshold, step, trace)\u001b[0m\n\u001b[1;32m     51\u001b[0m     \u001b[0mdocs_predictions\u001b[0m \u001b[0;34m=\u001b[0m \u001b[0mclassifier\u001b[0m\u001b[0;34m.\u001b[0m\u001b[0mpredict_all\u001b[0m\u001b[0;34m(\u001b[0m\u001b[0mdocs\u001b[0m\u001b[0;34m)\u001b[0m\u001b[0;34m\u001b[0m\u001b[0;34m\u001b[0m\u001b[0m\n\u001b[1;32m     52\u001b[0m     \u001b[0;32mfor\u001b[0m \u001b[0mthreshold\u001b[0m \u001b[0;32min\u001b[0m \u001b[0marange\u001b[0m\u001b[0;34m(\u001b[0m\u001b[0mmin_threshold\u001b[0m\u001b[0;34m,\u001b[0m \u001b[0mmax_threshold\u001b[0m\u001b[0;34m,\u001b[0m \u001b[0mstep\u001b[0m\u001b[0;34m)\u001b[0m\u001b[0;34m:\u001b[0m\u001b[0;34m\u001b[0m\u001b[0;34m\u001b[0m\u001b[0m\n\u001b[0;32m---> 53\u001b[0;31m         \u001b[0mr\u001b[0m \u001b[0;34m=\u001b[0m \u001b[0mcalculate_metrics\u001b[0m\u001b[0;34m(\u001b[0m\u001b[0mdocs_predictions\u001b[0m\u001b[0;34m,\u001b[0m \u001b[0mthreshold\u001b[0m\u001b[0;34m)\u001b[0m\u001b[0;34m\u001b[0m\u001b[0;34m\u001b[0m\u001b[0m\n\u001b[0m\u001b[1;32m     54\u001b[0m         \u001b[0mx\u001b[0m\u001b[0;34m.\u001b[0m\u001b[0mappend\u001b[0m\u001b[0;34m(\u001b[0m\u001b[0mthreshold\u001b[0m\u001b[0;34m)\u001b[0m\u001b[0;34m\u001b[0m\u001b[0;34m\u001b[0m\u001b[0m\n\u001b[1;32m     55\u001b[0m         \u001b[0my_p\u001b[0m\u001b[0;34m.\u001b[0m\u001b[0mappend\u001b[0m\u001b[0;34m(\u001b[0m\u001b[0mr\u001b[0m\u001b[0;34m[\u001b[0m\u001b[0;36m0\u001b[0m\u001b[0;34m]\u001b[0m\u001b[0;34m)\u001b[0m\u001b[0;34m\u001b[0m\u001b[0;34m\u001b[0m\u001b[0m\n",
      "\u001b[0;32m/var/folders/nm/069lgdbn421gcgtpcwrx9bd40000gn/T/ipykernel_22108/1189269641.py\u001b[0m in \u001b[0;36mcalculate_metrics\u001b[0;34m(docs, classifier)\u001b[0m\n\u001b[1;32m      6\u001b[0m     \"\"\"\n\u001b[1;32m      7\u001b[0m \u001b[0;34m\u001b[0m\u001b[0m\n\u001b[0;32m----> 8\u001b[0;31m     \u001b[0mpredictions\u001b[0m \u001b[0;34m=\u001b[0m \u001b[0mclassifier\u001b[0m\u001b[0;34m.\u001b[0m\u001b[0mpredict_all\u001b[0m\u001b[0;34m(\u001b[0m\u001b[0mdocs\u001b[0m\u001b[0;34m)\u001b[0m\u001b[0;34m\u001b[0m\u001b[0;34m\u001b[0m\u001b[0m\n\u001b[0m\u001b[1;32m      9\u001b[0m \u001b[0;34m\u001b[0m\u001b[0m\n\u001b[1;32m     10\u001b[0m     \u001b[0mtrue\u001b[0m \u001b[0;34m=\u001b[0m \u001b[0;34m[\u001b[0m\u001b[0mi\u001b[0m\u001b[0;34m[\u001b[0m\u001b[0;36m1\u001b[0m\u001b[0;34m]\u001b[0m \u001b[0;32mfor\u001b[0m \u001b[0mi\u001b[0m \u001b[0;32min\u001b[0m \u001b[0mpredictions\u001b[0m\u001b[0;34m]\u001b[0m\u001b[0;34m\u001b[0m\u001b[0;34m\u001b[0m\u001b[0m\n",
      "\u001b[0;31mAttributeError\u001b[0m: 'int' object has no attribute 'predict_all'"
     ]
    }
   ],
   "source": [
    "plot_results(train_docs, min_threshold=0, max_threshold=3000, step=100, trace=1)"
   ]
  },
  {
   "cell_type": "code",
   "execution_count": null,
   "metadata": {},
   "outputs": [
    {
     "name": "stderr",
     "output_type": "stream",
     "text": [
      "Traceback (most recent call last):\n",
      "  File \"<string>\", line 1, in <module>\n",
      "  File \"/Users/ninakamkia/miniforge3/lib/python3.9/multiprocessing/spawn.py\", line 116, in spawn_main\n",
      "Traceback (most recent call last):\n",
      "  File \"<string>\", line 1, in <module>\n",
      "  File \"/Users/ninakamkia/miniforge3/lib/python3.9/multiprocessing/spawn.py\", line 116, in spawn_main\n",
      "Traceback (most recent call last):\n",
      "  File \"<string>\", line 1, in <module>\n",
      "  File \"/Users/ninakamkia/miniforge3/lib/python3.9/multiprocessing/spawn.py\", line 116, in spawn_main\n",
      "    exitcode = _main(fd, parent_sentinel)\n",
      "  File \"/Users/ninakamkia/miniforge3/lib/python3.9/multiprocessing/spawn.py\", line 126, in _main\n",
      "    exitcode = _main(fd, parent_sentinel)\n",
      "  File \"/Users/ninakamkia/miniforge3/lib/python3.9/multiprocessing/spawn.py\", line 126, in _main\n",
      "    self = reduction.pickle.load(from_parent)\n",
      "AttributeError: Can't get attribute 'load_csv_worker' on <module '__main__' (built-in)>\n",
      "    self = reduction.pickle.load(from_parent)\n",
      "AttributeError: Can't get attribute 'load_csv_worker' on <module '__main__' (built-in)>\n",
      "Traceback (most recent call last):\n",
      "  File \"<string>\", line 1, in <module>\n",
      "    exitcode = _main(fd, parent_sentinel)\n",
      "  File \"/Users/ninakamkia/miniforge3/lib/python3.9/multiprocessing/spawn.py\", line 126, in _main\n",
      "  File \"/Users/ninakamkia/miniforge3/lib/python3.9/multiprocessing/spawn.py\", line 116, in spawn_main\n",
      "    exitcode = _main(fd, parent_sentinel)\n",
      "  File \"/Users/ninakamkia/miniforge3/lib/python3.9/multiprocessing/spawn.py\", line 126, in _main\n",
      "    self = reduction.pickle.load(from_parent)\n",
      "AttributeError: Can't get attribute 'load_csv_worker' on <module '__main__' (built-in)>\n",
      "    self = reduction.pickle.load(from_parent)\n",
      "AttributeError: Can't get attribute 'load_csv_worker' on <module '__main__' (built-in)>\n"
     ]
    }
   ],
   "source": [
    "%%time\n",
    "\n",
    "TEST_DATA_FILE  = 'kaggle_test_data_tab.csv'\n",
    "\n",
    "test_docs = load_csv_multiprocess(TEST_DATA_FILE, calc_features)\n",
    "\n",
    "threshold = 800\n",
    "\n",
    "with open('my_submission.csv' , 'wt') as fout:\n",
    "    writer = csv.writer(fout)\n",
    "    writer.writerow(['Id','Prediction'])\n",
    "    for item in classifier.predict_all(test_docs):\n",
    "        prediction =  1 if item[3] > threshold else 0\n",
    "        writer.writerow([item[0], prediction])"
   ]
  },
  {
   "cell_type": "code",
   "execution_count": null,
   "metadata": {},
   "outputs": [],
   "source": []
  }
 ],
 "metadata": {
  "anaconda-cloud": {},
  "kernelspec": {
   "display_name": "Python 3 (ipykernel)",
   "language": "python",
   "name": "python3"
  },
  "language_info": {
   "codemirror_mode": {
    "name": "ipython",
    "version": 3
   },
   "file_extension": ".py",
   "mimetype": "text/x-python",
   "name": "python",
   "nbconvert_exporter": "python",
   "pygments_lexer": "ipython3",
   "version": "3.9.7"
  }
 },
 "nbformat": 4,
 "nbformat_minor": 1
}
